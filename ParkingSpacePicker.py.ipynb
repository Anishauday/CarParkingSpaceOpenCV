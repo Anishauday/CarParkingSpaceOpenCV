{
 "cells": [
  {
   "cell_type": "code",
   "execution_count": null,
   "metadata": {},
   "outputs": [],
   "source": [
    "import cv2\n",
    "import pickle\n",
    " \n",
    "width, height = 107, 48\n",
    " \n",
    "try:\n",
    "    with open('CarParkPos1', 'rb') as f:\n",
    "        posList = pickle.load(f)\n",
    "except:\n",
    "    posList = []\n",
    " \n",
    " \n",
    "def mouseClick(events, x, y, flags, params):\n",
    "    if events == cv2.EVENT_LBUTTONDOWN:\n",
    "        posList.append((x, y))\n",
    "    if events == cv2.EVENT_RBUTTONDOWN:\n",
    "        for i, pos in enumerate(posList):\n",
    "            x1, y1 = pos\n",
    "            if x1 < x < x1 + width and y1 < y < y1 + height:\n",
    "                posList.pop(i)\n",
    " \n",
    "    with open('CarParkPos1', 'wb') as f:\n",
    "        pickle.dump(posList, f)\n",
    " \n",
    " \n",
    "while True:\n",
    "    img = cv2.imread('carParkImg.png')\n",
    "    for pos in posList:\n",
    "        cv2.rectangle(img, pos, (pos[0] + width, pos[1] + height), (255, 0, 255), 2)\n",
    " \n",
    "    cv2.imshow(\"Image\", img)\n",
    "    cv2.setMouseCallback(\"Image\", mouseClick)\n",
    "    cv2.waitKey(1)\n",
    "    "
   ]
  },
  {
   "cell_type": "code",
   "execution_count": null,
   "metadata": {},
   "outputs": [],
   "source": [
    "import cv2\n",
    "import pickle\n",
    "img = cv2.imread('carParkImg.png')\n",
    "\n",
    "\n",
    "cv2.rectangle(img, (100,100),(200,150), (255, 0, 255), 2)\n",
    "cv2.imshow(\"Image\", img)\n",
    "    \n",
    "cv2.waitKey(0)\n",
    "cv2.destroyAllWindows()\n"
   ]
  }
 ],
 "metadata": {
  "kernelspec": {
   "display_name": "Python 3",
   "language": "python",
   "name": "python3"
  },
  "language_info": {
   "codemirror_mode": {
    "name": "ipython",
    "version": 3
   },
   "file_extension": ".py",
   "mimetype": "text/x-python",
   "name": "python",
   "nbconvert_exporter": "python",
   "pygments_lexer": "ipython3",
   "version": "3.8.3"
  }
 },
 "nbformat": 4,
 "nbformat_minor": 4
}
