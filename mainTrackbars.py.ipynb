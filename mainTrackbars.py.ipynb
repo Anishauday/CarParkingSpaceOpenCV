{
 "cells": [
  {
   "cell_type": "code",
   "execution_count": 2,
   "metadata": {},
   "outputs": [
    {
     "name": "stdout",
     "output_type": "stream",
     "text": [
      "Collecting cvzoneNote: you may need to restart the kernel to use updated packages.\n",
      "  Downloading cvzone-1.5.3.tar.gz (12 kB)\n",
      "Requirement already satisfied: opencv-python in c:\\programdata\\anaconda3\\lib\\site-packages (from cvzone) (4.5.1.48)\n",
      "Requirement already satisfied: numpy in c:\\programdata\\anaconda3\\lib\\site-packages (from cvzone) (1.19.5)\n",
      "Building wheels for collected packages: cvzone\n",
      "  Building wheel for cvzone (setup.py): started\n",
      "  Building wheel for cvzone (setup.py): finished with status 'done'\n",
      "  Created wheel for cvzone: filename=cvzone-1.5.3-py3-none-any.whl size=18389 sha256=fd2b2eaf36565708dbc4c96a1fe5741ecfd5d28875026317f6f790184fc385f4\n",
      "  Stored in directory: c:\\users\\662748\\appdata\\local\\pip\\cache\\wheels\\76\\3a\\b3\\da7f212381c3fbca2213e4211d6381b7c62149c3d9b099ffdf\n",
      "Successfully built cvzone\n",
      "Installing collected packages: cvzone\n",
      "Successfully installed cvzone-1.5.3\n",
      "\n"
     ]
    }
   ],
   "source": [
    "#pip install cvzone"
   ]
  },
  {
   "cell_type": "code",
   "execution_count": 3,
   "metadata": {},
   "outputs": [
    {
     "ename": "FileNotFoundError",
     "evalue": "[Errno 2] No such file or directory: 'polygons'",
     "output_type": "error",
     "traceback": [
      "\u001b[1;31m---------------------------------------------------------------------------\u001b[0m",
      "\u001b[1;31mFileNotFoundError\u001b[0m                         Traceback (most recent call last)",
      "\u001b[1;32m<ipython-input-3-5463d4d934da>\u001b[0m in \u001b[0;36m<module>\u001b[1;34m\u001b[0m\n\u001b[0;32m      6\u001b[0m \u001b[0mcap\u001b[0m \u001b[1;33m=\u001b[0m \u001b[0mcv2\u001b[0m\u001b[1;33m.\u001b[0m\u001b[0mVideoCapture\u001b[0m\u001b[1;33m(\u001b[0m\u001b[1;34m'carPark.mp4'\u001b[0m\u001b[1;33m)\u001b[0m\u001b[1;33m\u001b[0m\u001b[1;33m\u001b[0m\u001b[0m\n\u001b[0;32m      7\u001b[0m \u001b[0mwidth\u001b[0m\u001b[1;33m,\u001b[0m \u001b[0mheight\u001b[0m \u001b[1;33m=\u001b[0m \u001b[1;36m103\u001b[0m\u001b[1;33m,\u001b[0m \u001b[1;36m43\u001b[0m\u001b[1;33m\u001b[0m\u001b[1;33m\u001b[0m\u001b[0m\n\u001b[1;32m----> 8\u001b[1;33m \u001b[1;32mwith\u001b[0m \u001b[0mopen\u001b[0m\u001b[1;33m(\u001b[0m\u001b[1;34m'polygons'\u001b[0m\u001b[1;33m,\u001b[0m \u001b[1;34m'rb'\u001b[0m\u001b[1;33m)\u001b[0m \u001b[1;32mas\u001b[0m \u001b[0mf\u001b[0m\u001b[1;33m:\u001b[0m\u001b[1;33m\u001b[0m\u001b[1;33m\u001b[0m\u001b[0m\n\u001b[0m\u001b[0;32m      9\u001b[0m     \u001b[0mposList\u001b[0m \u001b[1;33m=\u001b[0m \u001b[0mpickle\u001b[0m\u001b[1;33m.\u001b[0m\u001b[0mload\u001b[0m\u001b[1;33m(\u001b[0m\u001b[0mf\u001b[0m\u001b[1;33m)\u001b[0m\u001b[1;33m\u001b[0m\u001b[1;33m\u001b[0m\u001b[0m\n\u001b[0;32m     10\u001b[0m \u001b[1;33m\u001b[0m\u001b[0m\n",
      "\u001b[1;31mFileNotFoundError\u001b[0m: [Errno 2] No such file or directory: 'polygons'"
     ]
    }
   ],
   "source": [
    "import cv2\n",
    "import pickle\n",
    "import cvzone\n",
    "import numpy as np\n",
    " \n",
    "cap = cv2.VideoCapture('carPark.mp4')\n",
    "width, height = 103, 43\n",
    "with open('polygons', 'rb') as f:\n",
    "    posList = pickle.load(f)\n",
    " \n",
    " \n",
    "def empty(a):\n",
    "    pass\n",
    " \n",
    " \n",
    "cv2.namedWindow(\"Vals\")\n",
    "cv2.resizeWindow(\"Vals\", 640, 240)\n",
    "cv2.createTrackbar(\"Val1\", \"Vals\", 25, 50, empty)\n",
    "cv2.createTrackbar(\"Val2\", \"Vals\", 16, 50, empty)\n",
    "cv2.createTrackbar(\"Val3\", \"Vals\", 5, 50, empty)\n",
    " \n",
    " \n",
    "def checkSpaces():\n",
    "    spaces = 0\n",
    "    for pos in posList:\n",
    "        x, y = pos\n",
    "        w, h = width, height\n",
    " \n",
    "        imgCrop = imgThres[y:y + h, x:x + w]\n",
    "        count = cv2.countNonZero(imgCrop)\n",
    " \n",
    "        if count < 900:\n",
    "            color = (0, 200, 0)\n",
    "            thic = 5\n",
    "            spaces += 1\n",
    " \n",
    "        else:\n",
    "            color = (0, 0, 200)\n",
    "            thic = 2\n",
    " \n",
    "        cv2.rectangle(img, (x, y), (x + w, y + h), color, thic)\n",
    " \n",
    "        cv2.putText(img, str(cv2.countNonZero(imgCrop)), (x, y + h - 6), cv2.FONT_HERSHEY_PLAIN, 1,\n",
    "                    color, 2)\n",
    " \n",
    "    cvzone.putTextRect(img, f'Free: {spaces}/{len(posList)}', (50, 60), thickness=3, offset=20,\n",
    "                       colorR=(0, 200, 0))\n",
    " \n",
    " \n",
    "while True:\n",
    " \n",
    "    # Get image frame\n",
    "    success, img = cap.read()\n",
    "    if cap.get(cv2.CAP_PROP_POS_FRAMES) == cap.get(cv2.CAP_PROP_FRAME_COUNT):\n",
    "        cap.set(cv2.CAP_PROP_POS_FRAMES, 0)\n",
    "    # img = cv2.imread('img.png')\n",
    "    imgGray = cv2.cvtColor(img, cv2.COLOR_BGR2GRAY)\n",
    "    imgBlur = cv2.GaussianBlur(imgGray, (3, 3), 1)\n",
    "    # ret, imgThres = cv2.threshold(imgBlur, 150, 255, cv2.THRESH_BINARY)\n",
    " \n",
    "    val1 = cv2.getTrackbarPos(\"Val1\", \"Vals\")\n",
    "    val2 = cv2.getTrackbarPos(\"Val2\", \"Vals\")\n",
    "    val3 = cv2.getTrackbarPos(\"Val3\", \"Vals\")\n",
    "    if val1 % 2 == 0: val1 += 1\n",
    "    if val3 % 2 == 0: val3 += 1\n",
    "    imgThres = cv2.adaptiveThreshold(imgBlur, 255, cv2.ADAPTIVE_THRESH_GAUSSIAN_C,\n",
    "                                     cv2.THRESH_BINARY_INV, val1, val2)\n",
    "    imgThres = cv2.medianBlur(imgThres, val3)\n",
    "    kernel = np.ones((3, 3), np.uint8)\n",
    "    imgThres = cv2.dilate(imgThres, kernel, iterations=1)\n",
    " \n",
    "    checkSpaces()\n",
    "    # Display Output\n",
    " \n",
    "    cv2.imshow(\"Image\", img)\n",
    "    # cv2.imshow(\"ImageGray\", imgThres)\n",
    "    # cv2.imshow(\"ImageBlur\", imgBlur)\n",
    "    key = cv2.waitKey(1)\n",
    "    if key == ord('r'):\n",
    "        pass"
   ]
  }
 ],
 "metadata": {
  "kernelspec": {
   "display_name": "Python 3",
   "language": "python",
   "name": "python3"
  },
  "language_info": {
   "codemirror_mode": {
    "name": "ipython",
    "version": 3
   },
   "file_extension": ".py",
   "mimetype": "text/x-python",
   "name": "python",
   "nbconvert_exporter": "python",
   "pygments_lexer": "ipython3",
   "version": "3.8.3"
  }
 },
 "nbformat": 4,
 "nbformat_minor": 4
}
